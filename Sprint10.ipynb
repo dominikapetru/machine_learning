{
 "cells": [
  {
   "cell_type": "markdown",
   "id": "9053d7c3-2a6b-4275-90a9-f7ef368f87c0",
   "metadata": {},
   "source": [
    "# Sprint 10: Linear Regression SciKit-Learn"
   ]
  },
  {
   "cell_type": "markdown",
   "id": "7b350a3f-c66b-44e1-b745-323d9a644ef4",
   "metadata": {},
   "source": [
    "## Imports"
   ]
  },
  {
   "cell_type": "code",
   "execution_count": 1,
   "id": "9a2f9c38-cbb0-4453-ad9a-69d213f624a0",
   "metadata": {},
   "outputs": [],
   "source": [
    "import numpy as np\n",
    "import pandas as pd\n",
    "import matplotlib.pyplot as plt\n",
    "import seaborn as sns"
   ]
  },
  {
   "cell_type": "markdown",
   "id": "ab477089-b777-4106-b56e-8b54f02062c9",
   "metadata": {},
   "source": [
    "## Sample Data\n"
   ]
  },
  {
   "cell_type": "markdown",
   "id": "315fdca6-b2cf-40a4-969a-15b2045ed5e7",
   "metadata": {},
   "source": [
    "I will analyze sale-prices of housing in Catalonia during the year 2020. First I will create a simplified dataset with average price of new  housing sales, average price of second-hand housing sales, intensity of construction and completed housing.\n",
    "- https://www.idescat.cat/pub/?id=aec&n=728&t=2020\n",
    "- https://www.idescat.cat/pub/?id=aec&n=729&t=2020\n",
    "- https://www.idescat.cat/pub/?id=aec&n=727\n",
    "- https://www.idescat.cat/pub/?id=aec&n=718"
   ]
  },
  {
   "cell_type": "code",
   "execution_count": 210,
   "id": "4894b761-97e3-49e4-9abc-d653e1d7d480",
   "metadata": {},
   "outputs": [
    {
     "data": {
      "text/html": [
       "<div>\n",
       "<style scoped>\n",
       "    .dataframe tbody tr th:only-of-type {\n",
       "        vertical-align: middle;\n",
       "    }\n",
       "\n",
       "    .dataframe tbody tr th {\n",
       "        vertical-align: top;\n",
       "    }\n",
       "\n",
       "    .dataframe thead th {\n",
       "        text-align: right;\n",
       "    }\n",
       "</style>\n",
       "<table border=\"1\" class=\"dataframe\">\n",
       "  <thead>\n",
       "    <tr style=\"text-align: right;\">\n",
       "      <th></th>\n",
       "      <th>Unnamed: 0</th>\n",
       "      <th>2016</th>\n",
       "      <th>2017</th>\n",
       "      <th>2018</th>\n",
       "      <th>2019</th>\n",
       "      <th>2020</th>\n",
       "      <th>Unnamed: 6</th>\n",
       "    </tr>\n",
       "  </thead>\n",
       "  <tbody>\n",
       "    <tr>\n",
       "      <th>0</th>\n",
       "      <td>Alt Camp</td>\n",
       "      <td>1.089,05</td>\n",
       "      <td>1.285,96</td>\n",
       "      <td>821,89</td>\n",
       "      <td>1.155,58</td>\n",
       "      <td>819,27</td>\n",
       "      <td>NaN</td>\n",
       "    </tr>\n",
       "    <tr>\n",
       "      <th>1</th>\n",
       "      <td>Alt Empordà</td>\n",
       "      <td>1.635,69</td>\n",
       "      <td>1.710,45</td>\n",
       "      <td>1.812,31</td>\n",
       "      <td>1.982,50</td>\n",
       "      <td>1.823,48</td>\n",
       "      <td>NaN</td>\n",
       "    </tr>\n",
       "    <tr>\n",
       "      <th>2</th>\n",
       "      <td>Alt Penedès</td>\n",
       "      <td>1.215,81</td>\n",
       "      <td>1.224,31</td>\n",
       "      <td>1.258,99</td>\n",
       "      <td>1.379,19</td>\n",
       "      <td>1.557,13</td>\n",
       "      <td>NaN</td>\n",
       "    </tr>\n",
       "    <tr>\n",
       "      <th>3</th>\n",
       "      <td>Alt Urgell</td>\n",
       "      <td>925,24</td>\n",
       "      <td>1.489,35</td>\n",
       "      <td>948,73</td>\n",
       "      <td>1.154,79</td>\n",
       "      <td>1.202,06</td>\n",
       "      <td>NaN</td>\n",
       "    </tr>\n",
       "    <tr>\n",
       "      <th>4</th>\n",
       "      <td>Alta Ribagorça</td>\n",
       "      <td>..</td>\n",
       "      <td>..</td>\n",
       "      <td>0,00</td>\n",
       "      <td>0,00</td>\n",
       "      <td>0,00</td>\n",
       "      <td>NaN</td>\n",
       "    </tr>\n",
       "  </tbody>\n",
       "</table>\n",
       "</div>"
      ],
      "text/plain": [
       "       Unnamed: 0      2016      2017      2018      2019      2020  \\\n",
       "0        Alt Camp  1.089,05  1.285,96    821,89  1.155,58    819,27   \n",
       "1     Alt Empordà  1.635,69  1.710,45  1.812,31  1.982,50  1.823,48   \n",
       "2     Alt Penedès  1.215,81  1.224,31  1.258,99  1.379,19  1.557,13   \n",
       "3      Alt Urgell    925,24  1.489,35    948,73  1.154,79  1.202,06   \n",
       "4  Alta Ribagorça        ..        ..      0,00      0,00      0,00   \n",
       "\n",
       "   Unnamed: 6  \n",
       "0         NaN  \n",
       "1         NaN  \n",
       "2         NaN  \n",
       "3         NaN  \n",
       "4         NaN  "
      ]
     },
     "execution_count": 210,
     "metadata": {},
     "output_type": "execute_result"
    }
   ],
   "source": [
    "dfPriceNewCons = pd.read_csv(\"preu_venda_primera.csv\")\n",
    "dfPriceNewCons.head(5)"
   ]
  },
  {
   "cell_type": "code",
   "execution_count": 181,
   "id": "133a92b7-3d21-416f-88b5-685a8422a3a6",
   "metadata": {},
   "outputs": [
    {
     "data": {
      "text/html": [
       "<div>\n",
       "<style scoped>\n",
       "    .dataframe tbody tr th:only-of-type {\n",
       "        vertical-align: middle;\n",
       "    }\n",
       "\n",
       "    .dataframe tbody tr th {\n",
       "        vertical-align: top;\n",
       "    }\n",
       "\n",
       "    .dataframe thead th {\n",
       "        text-align: right;\n",
       "    }\n",
       "</style>\n",
       "<table border=\"1\" class=\"dataframe\">\n",
       "  <thead>\n",
       "    <tr style=\"text-align: right;\">\n",
       "      <th></th>\n",
       "      <th>Unnamed: 0</th>\n",
       "      <th>2016</th>\n",
       "      <th>2017</th>\n",
       "      <th>2018</th>\n",
       "      <th>2019</th>\n",
       "      <th>2020</th>\n",
       "      <th>Unnamed: 6</th>\n",
       "    </tr>\n",
       "  </thead>\n",
       "  <tbody>\n",
       "    <tr>\n",
       "      <th>0</th>\n",
       "      <td>Alt Camp</td>\n",
       "      <td>1.079,10</td>\n",
       "      <td>1.058,25</td>\n",
       "      <td>1.045,53</td>\n",
       "      <td>1.077,21</td>\n",
       "      <td>1.154,45</td>\n",
       "      <td>NaN</td>\n",
       "    </tr>\n",
       "    <tr>\n",
       "      <th>1</th>\n",
       "      <td>Alt Empordà</td>\n",
       "      <td>1.785,13</td>\n",
       "      <td>1.876,15</td>\n",
       "      <td>1.862,31</td>\n",
       "      <td>1.923,79</td>\n",
       "      <td>2.062,06</td>\n",
       "      <td>NaN</td>\n",
       "    </tr>\n",
       "    <tr>\n",
       "      <th>2</th>\n",
       "      <td>Alt Penedès</td>\n",
       "      <td>1.052,44</td>\n",
       "      <td>1.188,03</td>\n",
       "      <td>1.206,97</td>\n",
       "      <td>1.312,48</td>\n",
       "      <td>1.323,84</td>\n",
       "      <td>NaN</td>\n",
       "    </tr>\n",
       "    <tr>\n",
       "      <th>3</th>\n",
       "      <td>Alt Urgell</td>\n",
       "      <td>950,78</td>\n",
       "      <td>794,38</td>\n",
       "      <td>997,67</td>\n",
       "      <td>955,98</td>\n",
       "      <td>996,69</td>\n",
       "      <td>NaN</td>\n",
       "    </tr>\n",
       "    <tr>\n",
       "      <th>4</th>\n",
       "      <td>Alta Ribagorça</td>\n",
       "      <td>1.092,83</td>\n",
       "      <td>1.128,11</td>\n",
       "      <td>1.124,58</td>\n",
       "      <td>1.451,41</td>\n",
       "      <td>982,53</td>\n",
       "      <td>NaN</td>\n",
       "    </tr>\n",
       "  </tbody>\n",
       "</table>\n",
       "</div>"
      ],
      "text/plain": [
       "       Unnamed: 0      2016      2017      2018      2019      2020  \\\n",
       "0        Alt Camp  1.079,10  1.058,25  1.045,53  1.077,21  1.154,45   \n",
       "1     Alt Empordà  1.785,13  1.876,15  1.862,31  1.923,79  2.062,06   \n",
       "2     Alt Penedès  1.052,44  1.188,03  1.206,97  1.312,48  1.323,84   \n",
       "3      Alt Urgell    950,78    794,38    997,67    955,98    996,69   \n",
       "4  Alta Ribagorça  1.092,83  1.128,11  1.124,58  1.451,41    982,53   \n",
       "\n",
       "   Unnamed: 6  \n",
       "0         NaN  \n",
       "1         NaN  \n",
       "2         NaN  \n",
       "3         NaN  \n",
       "4         NaN  "
      ]
     },
     "execution_count": 181,
     "metadata": {},
     "output_type": "execute_result"
    }
   ],
   "source": [
    "dfPriceSecHand = pd.read_csv(\"preu_venda_segona.csv\")\n",
    "dfPriceSecHand.head(5)"
   ]
  },
  {
   "cell_type": "code",
   "execution_count": 182,
   "id": "f8112aa8-21e6-4c20-85b4-aed492405b51",
   "metadata": {},
   "outputs": [
    {
     "data": {
      "text/html": [
       "<div>\n",
       "<style scoped>\n",
       "    .dataframe tbody tr th:only-of-type {\n",
       "        vertical-align: middle;\n",
       "    }\n",
       "\n",
       "    .dataframe tbody tr th {\n",
       "        vertical-align: top;\n",
       "    }\n",
       "\n",
       "    .dataframe thead th {\n",
       "        text-align: right;\n",
       "    }\n",
       "</style>\n",
       "<table border=\"1\" class=\"dataframe\">\n",
       "  <thead>\n",
       "    <tr style=\"text-align: right;\">\n",
       "      <th></th>\n",
       "      <th>Unnamed: 0</th>\n",
       "      <th>2016</th>\n",
       "      <th>2017</th>\n",
       "      <th>2018</th>\n",
       "      <th>2019</th>\n",
       "      <th>2020</th>\n",
       "      <th>Unnamed: 6</th>\n",
       "    </tr>\n",
       "  </thead>\n",
       "  <tbody>\n",
       "    <tr>\n",
       "      <th>0</th>\n",
       "      <td>Alt Camp</td>\n",
       "      <td>0,2</td>\n",
       "      <td>0,4</td>\n",
       "      <td>0,2</td>\n",
       "      <td>0,3</td>\n",
       "      <td>0,3</td>\n",
       "      <td>NaN</td>\n",
       "    </tr>\n",
       "    <tr>\n",
       "      <th>1</th>\n",
       "      <td>Alt Empordà</td>\n",
       "      <td>2,0</td>\n",
       "      <td>1,7</td>\n",
       "      <td>2,3</td>\n",
       "      <td>2,4</td>\n",
       "      <td>1,7</td>\n",
       "      <td>NaN</td>\n",
       "    </tr>\n",
       "    <tr>\n",
       "      <th>2</th>\n",
       "      <td>Alt Penedès</td>\n",
       "      <td>1,0</td>\n",
       "      <td>0,5</td>\n",
       "      <td>3,1</td>\n",
       "      <td>1,5</td>\n",
       "      <td>3,1</td>\n",
       "      <td>NaN</td>\n",
       "    </tr>\n",
       "    <tr>\n",
       "      <th>3</th>\n",
       "      <td>Alt Urgell</td>\n",
       "      <td>0,2</td>\n",
       "      <td>0,4</td>\n",
       "      <td>0,2</td>\n",
       "      <td>1,5</td>\n",
       "      <td>0,4</td>\n",
       "      <td>NaN</td>\n",
       "    </tr>\n",
       "    <tr>\n",
       "      <th>4</th>\n",
       "      <td>Alta Ribagorça</td>\n",
       "      <td>0,3</td>\n",
       "      <td>1,6</td>\n",
       "      <td>1,1</td>\n",
       "      <td>0,5</td>\n",
       "      <td>2,4</td>\n",
       "      <td>NaN</td>\n",
       "    </tr>\n",
       "  </tbody>\n",
       "</table>\n",
       "</div>"
      ],
      "text/plain": [
       "       Unnamed: 0 2016 2017 2018 2019 2020  Unnamed: 6\n",
       "0        Alt Camp  0,2  0,4  0,2  0,3  0,3         NaN\n",
       "1     Alt Empordà  2,0  1,7  2,3  2,4  1,7         NaN\n",
       "2     Alt Penedès  1,0  0,5  3,1  1,5  3,1         NaN\n",
       "3      Alt Urgell  0,2  0,4  0,2  1,5  0,4         NaN\n",
       "4  Alta Ribagorça  0,3  1,6  1,1  0,5  2,4         NaN"
      ]
     },
     "execution_count": 182,
     "metadata": {},
     "output_type": "execute_result"
    }
   ],
   "source": [
    "dfConInt = pd.read_csv(\"intensitat.csv\")\n",
    "dfConInt.head(5)"
   ]
  },
  {
   "cell_type": "code",
   "execution_count": 183,
   "id": "66922e40-0ed2-4568-b5d8-5e5e467b6743",
   "metadata": {},
   "outputs": [
    {
     "data": {
      "text/html": [
       "<div>\n",
       "<style scoped>\n",
       "    .dataframe tbody tr th:only-of-type {\n",
       "        vertical-align: middle;\n",
       "    }\n",
       "\n",
       "    .dataframe tbody tr th {\n",
       "        vertical-align: top;\n",
       "    }\n",
       "\n",
       "    .dataframe thead th {\n",
       "        text-align: right;\n",
       "    }\n",
       "</style>\n",
       "<table border=\"1\" class=\"dataframe\">\n",
       "  <thead>\n",
       "    <tr style=\"text-align: right;\">\n",
       "      <th></th>\n",
       "      <th>Unnamed: 0</th>\n",
       "      <th>aïllats</th>\n",
       "      <th>adossats</th>\n",
       "      <th>Plurifamiliars\\nen bloc</th>\n",
       "      <th>Altres</th>\n",
       "      <th>Sense\\ndades</th>\n",
       "      <th>Total</th>\n",
       "      <th>Habitatges amb\\nprotecció oficial (1)</th>\n",
       "    </tr>\n",
       "  </thead>\n",
       "  <tbody>\n",
       "    <tr>\n",
       "      <th>0</th>\n",
       "      <td>Alt Camp</td>\n",
       "      <td>8</td>\n",
       "      <td>4</td>\n",
       "      <td>6.0</td>\n",
       "      <td>0</td>\n",
       "      <td>0</td>\n",
       "      <td>18.0</td>\n",
       "      <td>0.0</td>\n",
       "    </tr>\n",
       "    <tr>\n",
       "      <th>1</th>\n",
       "      <td>Alt Empordà</td>\n",
       "      <td>86</td>\n",
       "      <td>45</td>\n",
       "      <td>129.0</td>\n",
       "      <td>0</td>\n",
       "      <td>0</td>\n",
       "      <td>260.0</td>\n",
       "      <td>10.0</td>\n",
       "    </tr>\n",
       "    <tr>\n",
       "      <th>2</th>\n",
       "      <td>Alt Penedès</td>\n",
       "      <td>20</td>\n",
       "      <td>30</td>\n",
       "      <td>126.0</td>\n",
       "      <td>0</td>\n",
       "      <td>0</td>\n",
       "      <td>176.0</td>\n",
       "      <td>1.0</td>\n",
       "    </tr>\n",
       "    <tr>\n",
       "      <th>3</th>\n",
       "      <td>Alt Urgell</td>\n",
       "      <td>1</td>\n",
       "      <td>11</td>\n",
       "      <td>4.0</td>\n",
       "      <td>0</td>\n",
       "      <td>0</td>\n",
       "      <td>16.0</td>\n",
       "      <td>0.0</td>\n",
       "    </tr>\n",
       "    <tr>\n",
       "      <th>4</th>\n",
       "      <td>Alta Ribagorça</td>\n",
       "      <td>5</td>\n",
       "      <td>0</td>\n",
       "      <td>0.0</td>\n",
       "      <td>0</td>\n",
       "      <td>0</td>\n",
       "      <td>5.0</td>\n",
       "      <td>0.0</td>\n",
       "    </tr>\n",
       "  </tbody>\n",
       "</table>\n",
       "</div>"
      ],
      "text/plain": [
       "       Unnamed: 0  aïllats  adossats  Plurifamiliars\\nen bloc  Altres  \\\n",
       "0        Alt Camp        8         4                      6.0       0   \n",
       "1     Alt Empordà       86        45                    129.0       0   \n",
       "2     Alt Penedès       20        30                    126.0       0   \n",
       "3      Alt Urgell        1        11                      4.0       0   \n",
       "4  Alta Ribagorça        5         0                      0.0       0   \n",
       "\n",
       "   Sense\\ndades  Total  Habitatges amb\\nprotecció oficial (1)  \n",
       "0             0   18.0                                    0.0  \n",
       "1             0  260.0                                   10.0  \n",
       "2             0  176.0                                    1.0  \n",
       "3             0   16.0                                    0.0  \n",
       "4             0    5.0                                    0.0  "
      ]
     },
     "execution_count": 183,
     "metadata": {},
     "output_type": "execute_result"
    }
   ],
   "source": [
    "dfComHous = pd.read_csv(\"housing_completed.csv\")\n",
    "dfComHous.head(5)"
   ]
  },
  {
   "cell_type": "code",
   "execution_count": 211,
   "id": "d6917736-224c-494b-95da-42498eb4481b",
   "metadata": {},
   "outputs": [],
   "source": [
    "#extracting columns I need\n",
    "firstDf = dfPriceNewCons[['Unnamed: 0','2020']]\n",
    "secondDf = dfPriceSecHand['2020']\n",
    "thirdDf = dfConInt['2020']\n",
    "forthDf = dfComHous['Total']"
   ]
  },
  {
   "cell_type": "code",
   "execution_count": 212,
   "id": "bee977b2-c43e-45f8-a29a-e4fa2f3925bf",
   "metadata": {},
   "outputs": [
    {
     "data": {
      "text/html": [
       "<div>\n",
       "<style scoped>\n",
       "    .dataframe tbody tr th:only-of-type {\n",
       "        vertical-align: middle;\n",
       "    }\n",
       "\n",
       "    .dataframe tbody tr th {\n",
       "        vertical-align: top;\n",
       "    }\n",
       "\n",
       "    .dataframe thead th {\n",
       "        text-align: right;\n",
       "    }\n",
       "</style>\n",
       "<table border=\"1\" class=\"dataframe\">\n",
       "  <thead>\n",
       "    <tr style=\"text-align: right;\">\n",
       "      <th></th>\n",
       "      <th>Region</th>\n",
       "      <th>NewConst</th>\n",
       "      <th>SecHandConst</th>\n",
       "      <th>IntensityConst</th>\n",
       "      <th>TotalConstHousing</th>\n",
       "    </tr>\n",
       "  </thead>\n",
       "  <tbody>\n",
       "    <tr>\n",
       "      <th>0</th>\n",
       "      <td>Alt Camp</td>\n",
       "      <td>819,27</td>\n",
       "      <td>1.154,45</td>\n",
       "      <td>0,3</td>\n",
       "      <td>18.0</td>\n",
       "    </tr>\n",
       "    <tr>\n",
       "      <th>1</th>\n",
       "      <td>Alt Empordà</td>\n",
       "      <td>1.823,48</td>\n",
       "      <td>2.062,06</td>\n",
       "      <td>1,7</td>\n",
       "      <td>260.0</td>\n",
       "    </tr>\n",
       "    <tr>\n",
       "      <th>2</th>\n",
       "      <td>Alt Penedès</td>\n",
       "      <td>1.557,13</td>\n",
       "      <td>1.323,84</td>\n",
       "      <td>3,1</td>\n",
       "      <td>176.0</td>\n",
       "    </tr>\n",
       "    <tr>\n",
       "      <th>3</th>\n",
       "      <td>Alt Urgell</td>\n",
       "      <td>1.202,06</td>\n",
       "      <td>996,69</td>\n",
       "      <td>0,4</td>\n",
       "      <td>16.0</td>\n",
       "    </tr>\n",
       "    <tr>\n",
       "      <th>4</th>\n",
       "      <td>Alta Ribagorça</td>\n",
       "      <td>0,00</td>\n",
       "      <td>982,53</td>\n",
       "      <td>2,4</td>\n",
       "      <td>5.0</td>\n",
       "    </tr>\n",
       "  </tbody>\n",
       "</table>\n",
       "</div>"
      ],
      "text/plain": [
       "           Region  NewConst SecHandConst IntensityConst  TotalConstHousing\n",
       "0        Alt Camp    819,27     1.154,45            0,3               18.0\n",
       "1     Alt Empordà  1.823,48     2.062,06            1,7              260.0\n",
       "2     Alt Penedès  1.557,13     1.323,84            3,1              176.0\n",
       "3      Alt Urgell  1.202,06       996,69            0,4               16.0\n",
       "4  Alta Ribagorça      0,00       982,53            2,4                5.0"
      ]
     },
     "execution_count": 212,
     "metadata": {},
     "output_type": "execute_result"
    }
   ],
   "source": [
    "#puting all together and renaming columns\n",
    "df = pd.concat([firstDf,secondDf,thirdDf,forthDf], axis=1)\n",
    "df.columns.values[0] = 'Region'\n",
    "df.columns.values[1] = 'NewConst'\n",
    "df.columns.values[2] = 'SecHandConst'\n",
    "df.columns.values[3] = 'IntensityConst'\n",
    "df.columns.values[4] = 'TotalConstHousing'\n",
    "df.head(5)"
   ]
  },
  {
   "cell_type": "code",
   "execution_count": 186,
   "id": "ba5dead5-b780-4cce-b69a-6405e2b8a34d",
   "metadata": {},
   "outputs": [
    {
     "name": "stdout",
     "output_type": "stream",
     "text": [
      "<class 'pandas.core.frame.DataFrame'>\n",
      "RangeIndex: 54 entries, 0 to 53\n",
      "Data columns (total 5 columns):\n",
      " #   Column             Non-Null Count  Dtype  \n",
      "---  ------             --------------  -----  \n",
      " 0   Region             54 non-null     object \n",
      " 1   NewConst           54 non-null     object \n",
      " 2   SecHandConst       54 non-null     object \n",
      " 3   IntensityConst     54 non-null     object \n",
      " 4   TotalConstHousing  54 non-null     float64\n",
      "dtypes: float64(1), object(4)\n",
      "memory usage: 2.2+ KB\n"
     ]
    }
   ],
   "source": [
    "#type of data\n",
    "df.info()"
   ]
  },
  {
   "cell_type": "code",
   "execution_count": 213,
   "id": "76ce102d-5b97-4b32-a4a6-1f15630ae6d7",
   "metadata": {},
   "outputs": [],
   "source": [
    "#I need to change all objects to floats - deleting point\n",
    "def replace1(s):\n",
    "    i=str(s).find('.')#returns a string version of object\n",
    "    if(i>0):\n",
    "        return s[:i] + '' + s[i+1:]#take first part and the second part after point\n",
    "    else :\n",
    "        return s \n",
    "\n",
    "df['NewConst']=df['NewConst'].apply(replace1)\n",
    "df['SecHandConst']=df['SecHandConst'].apply(replace1)\n",
    "df['IntensityConst']=df['IntensityConst'].apply(replace1)"
   ]
  },
  {
   "cell_type": "code",
   "execution_count": 214,
   "id": "33c4026c-0f5b-42fe-8df1-2a24e7ff9877",
   "metadata": {},
   "outputs": [],
   "source": [
    "#I need to change all objects to floats - replacing comma\n",
    "def replace2(s):\n",
    "    i=str(s).find(',')\n",
    "    if(i>0):\n",
    "        return s[:i] + '.'+ s[i+1:]\n",
    "    else :\n",
    "        return s \n",
    "\n",
    "df['NewConst']=df['NewConst'].apply(replace2)\n",
    "df['SecHandConst']=df['SecHandConst'].apply(replace2)\n",
    "df['IntensityConst']=df['IntensityConst'].apply(replace2)"
   ]
  },
  {
   "cell_type": "code",
   "execution_count": 215,
   "id": "66e6aa07-c71e-4159-8a2c-f329e94fe899",
   "metadata": {},
   "outputs": [
    {
     "data": {
      "text/html": [
       "<div>\n",
       "<style scoped>\n",
       "    .dataframe tbody tr th:only-of-type {\n",
       "        vertical-align: middle;\n",
       "    }\n",
       "\n",
       "    .dataframe tbody tr th {\n",
       "        vertical-align: top;\n",
       "    }\n",
       "\n",
       "    .dataframe thead th {\n",
       "        text-align: right;\n",
       "    }\n",
       "</style>\n",
       "<table border=\"1\" class=\"dataframe\">\n",
       "  <thead>\n",
       "    <tr style=\"text-align: right;\">\n",
       "      <th></th>\n",
       "      <th>Region</th>\n",
       "      <th>NewConst</th>\n",
       "      <th>SecHandConst</th>\n",
       "      <th>IntensityConst</th>\n",
       "      <th>TotalConstHousing</th>\n",
       "    </tr>\n",
       "  </thead>\n",
       "  <tbody>\n",
       "    <tr>\n",
       "      <th>0</th>\n",
       "      <td>Alt Camp</td>\n",
       "      <td>819.27</td>\n",
       "      <td>1154.45</td>\n",
       "      <td>0.3</td>\n",
       "      <td>18.0</td>\n",
       "    </tr>\n",
       "    <tr>\n",
       "      <th>1</th>\n",
       "      <td>Alt Empordà</td>\n",
       "      <td>1823.48</td>\n",
       "      <td>2062.06</td>\n",
       "      <td>1.7</td>\n",
       "      <td>260.0</td>\n",
       "    </tr>\n",
       "    <tr>\n",
       "      <th>2</th>\n",
       "      <td>Alt Penedès</td>\n",
       "      <td>1557.13</td>\n",
       "      <td>1323.84</td>\n",
       "      <td>3.1</td>\n",
       "      <td>176.0</td>\n",
       "    </tr>\n",
       "    <tr>\n",
       "      <th>3</th>\n",
       "      <td>Alt Urgell</td>\n",
       "      <td>1202.06</td>\n",
       "      <td>996.69</td>\n",
       "      <td>0.4</td>\n",
       "      <td>16.0</td>\n",
       "    </tr>\n",
       "    <tr>\n",
       "      <th>4</th>\n",
       "      <td>Alta Ribagorça</td>\n",
       "      <td>0.00</td>\n",
       "      <td>982.53</td>\n",
       "      <td>2.4</td>\n",
       "      <td>5.0</td>\n",
       "    </tr>\n",
       "  </tbody>\n",
       "</table>\n",
       "</div>"
      ],
      "text/plain": [
       "           Region  NewConst  SecHandConst  IntensityConst  TotalConstHousing\n",
       "0        Alt Camp    819.27       1154.45             0.3               18.0\n",
       "1     Alt Empordà   1823.48       2062.06             1.7              260.0\n",
       "2     Alt Penedès   1557.13       1323.84             3.1              176.0\n",
       "3      Alt Urgell   1202.06        996.69             0.4               16.0\n",
       "4  Alta Ribagorça      0.00        982.53             2.4                5.0"
      ]
     },
     "execution_count": 215,
     "metadata": {},
     "output_type": "execute_result"
    }
   ],
   "source": [
    "#changing all to float\n",
    "df['NewConst'] = pd.to_numeric(df['NewConst'],errors = 'coerce')\n",
    "df['SecHandConst'] = pd.to_numeric(df['SecHandConst'],errors = 'coerce')\n",
    "df['IntensityConst'] = pd.to_numeric(df['IntensityConst'],errors = 'coerce')\n",
    "df.head()"
   ]
  },
  {
   "cell_type": "code",
   "execution_count": 190,
   "id": "6d0cba19-efca-44df-b18a-a7d5db78fd1d",
   "metadata": {},
   "outputs": [
    {
     "name": "stdout",
     "output_type": "stream",
     "text": [
      "<class 'pandas.core.frame.DataFrame'>\n",
      "RangeIndex: 54 entries, 0 to 53\n",
      "Data columns (total 5 columns):\n",
      " #   Column             Non-Null Count  Dtype  \n",
      "---  ------             --------------  -----  \n",
      " 0   Region             54 non-null     object \n",
      " 1   NewConst           54 non-null     float64\n",
      " 2   SecHandConst       54 non-null     float64\n",
      " 3   IntensityConst     54 non-null     float64\n",
      " 4   TotalConstHousing  54 non-null     float64\n",
      "dtypes: float64(4), object(1)\n",
      "memory usage: 2.2+ KB\n"
     ]
    }
   ],
   "source": [
    "#Checking datatypes\n",
    "df.info()"
   ]
  },
  {
   "cell_type": "markdown",
   "id": "5441001f-a528-4cfc-8766-615b9281d6db",
   "metadata": {},
   "source": [
    "**Which is the relationship between prices of housing (new and second-hand properties) and the total number of constructed housing in each reagion of Catalonia for year 2020?**"
   ]
  },
  {
   "cell_type": "markdown",
   "id": "ff516ebc-ce5e-4c52-b452-b585b783d995",
   "metadata": {},
   "source": [
    "###Multiple predictions"
   ]
  },
  {
   "cell_type": "code",
   "execution_count": 191,
   "id": "01755508-ae3b-4d7f-b279-88ea15d9c48a",
   "metadata": {},
   "outputs": [
    {
     "data": {
      "image/png": "[encoded data removed]",
      "text/plain": [
       "<Figure size 1080x720 with 4 Axes>"
      ]
     },
     "metadata": {
      "needs_background": "light"
     },
     "output_type": "display_data"
    }
   ],
   "source": [
    "fig,axes = plt.subplots(nrows=2,ncols=2,figsize=(15,10))\n",
    "\n",
    "axes[0,0].plot(df['TotalConstHousing'],df['NewConst'],'o')\n",
    "axes[0,0].set_xlabel(\"Total constructed housing\")\n",
    "axes[0,0].set_ylabel(\"Prices of square meter of new construction housing\")\n",
    "axes[0,0].set_title(\"Total completed housing by prices of new housing unit\")\n",
    "\n",
    "axes[0,1].plot(df['IntensityConst'],df['NewConst'],'o')\n",
    "axes[0,1].set_xlabel(\"Intensity of construction\")\n",
    "axes[0,1].set_ylabel(\"Prices of square meter of new housing\")\n",
    "axes[0,1].set_title(\"Intensity of construction by prices of new housing unit\")\n",
    "\n",
    "axes[1,0].plot(df['TotalConstHousing'],df['SecHandConst'],'o')\n",
    "axes[1,0].set_xlabel(\"Intensity of construction\")\n",
    "axes[1,0].set_ylabel(\"Prices of square meter of second-hand housing\")\n",
    "axes[1,0].set_title(\"Total completed housing by prices of second-hand housing unit\")\n",
    "\n",
    "axes[1,1].plot(df['IntensityConst'],df['SecHandConst'],'o')\n",
    "axes[1,1].set_xlabel(\"Intensity of construction\")\n",
    "axes[1,1].set_ylabel(\"Prices of square meter of second-hand housing\")\n",
    "axes[1,1].set_title(\"Intensity of construction by prices of second-hand housing unit\")\n",
    "\n",
    "plt.tight_layout();"
   ]
  },
  {
   "cell_type": "markdown",
   "id": "d14fa185-dd1f-47bb-94ab-5b487c28f7b8",
   "metadata": {},
   "source": [
    "Interpretation:\n",
    "- New construction housing is likely to have higher price of square meter.\n",
    "- The amount of new construction and second-hand properties is almoust equally distributed.\n",
    "- The regions with higher intensity of construction tend to have increasing price of square meter of new housing\n",
    "- Second-hand properties are little less influenced by intensity of construction than new housing units."
   ]
  },
  {
   "cell_type": "code",
   "execution_count": 192,
   "id": "7b50f3c9-9b40-4a80-bcc6-e48abf010319",
   "metadata": {},
   "outputs": [
    {
     "data": {
      "image/png": "[encoded data removed]",
      "text/plain": [
       "<Figure size 720x720 with 20 Axes>"
      ]
     },
     "metadata": {
      "needs_background": "light"
     },
     "output_type": "display_data"
    }
   ],
   "source": [
    "#Relationships between features\n",
    "sns.pairplot(df,diag_kind='kde')\n",
    "plt.show()"
   ]
  },
  {
   "cell_type": "markdown",
   "id": "7cbc90be-3b68-4868-8d91-8efb7a039c5e",
   "metadata": {
    "tags": []
   },
   "source": [
    "Interpretation:\n",
    "- New housing prices are almoust normally distributed.\n",
    "- There might be strong positive correlation between new housing and second-hand housing."
   ]
  },
  {
   "cell_type": "markdown",
   "id": "6b216cd1-674d-4ea9-87c5-04adc4dfd673",
   "metadata": {},
   "source": [
    "## SciKit Learn preparation"
   ]
  },
  {
   "cell_type": "code",
   "execution_count": 201,
   "id": "6fd19eb6-5000-48cb-95c8-f55e2399a91e",
   "metadata": {},
   "outputs": [
    {
     "data": {
      "text/plain": [
       "False"
      ]
     },
     "execution_count": 201,
     "metadata": {},
     "output_type": "execute_result"
    }
   ],
   "source": [
    "#Do I have complete values dataset?\n",
    "df.isnull().values.any()"
   ]
  },
  {
   "cell_type": "code",
   "execution_count": 216,
   "id": "713ce0fc-1fbe-42eb-a03b-18df23e8486b",
   "metadata": {},
   "outputs": [],
   "source": [
    "df_test = df.copy()"
   ]
  },
  {
   "cell_type": "code",
   "execution_count": 217,
   "id": "70e0352d-7581-4144-b732-e99fed89649f",
   "metadata": {},
   "outputs": [
    {
     "data": {
      "text/html": [
       "<div>\n",
       "<style scoped>\n",
       "    .dataframe tbody tr th:only-of-type {\n",
       "        vertical-align: middle;\n",
       "    }\n",
       "\n",
       "    .dataframe tbody tr th {\n",
       "        vertical-align: top;\n",
       "    }\n",
       "\n",
       "    .dataframe thead th {\n",
       "        text-align: right;\n",
       "    }\n",
       "</style>\n",
       "<table border=\"1\" class=\"dataframe\">\n",
       "  <thead>\n",
       "    <tr style=\"text-align: right;\">\n",
       "      <th></th>\n",
       "      <th>Region</th>\n",
       "      <th>NewConst</th>\n",
       "      <th>SecHandConst</th>\n",
       "      <th>IntensityConst</th>\n",
       "      <th>TotalConstHousing</th>\n",
       "    </tr>\n",
       "  </thead>\n",
       "  <tbody>\n",
       "    <tr>\n",
       "      <th>0</th>\n",
       "      <td>Alt Camp</td>\n",
       "      <td>819.27</td>\n",
       "      <td>1154.45</td>\n",
       "      <td>0.3</td>\n",
       "      <td>18.0</td>\n",
       "    </tr>\n",
       "    <tr>\n",
       "      <th>1</th>\n",
       "      <td>Alt Empordà</td>\n",
       "      <td>1823.48</td>\n",
       "      <td>2062.06</td>\n",
       "      <td>1.7</td>\n",
       "      <td>260.0</td>\n",
       "    </tr>\n",
       "    <tr>\n",
       "      <th>2</th>\n",
       "      <td>Alt Penedès</td>\n",
       "      <td>1557.13</td>\n",
       "      <td>1323.84</td>\n",
       "      <td>3.1</td>\n",
       "      <td>176.0</td>\n",
       "    </tr>\n",
       "    <tr>\n",
       "      <th>3</th>\n",
       "      <td>Alt Urgell</td>\n",
       "      <td>1202.06</td>\n",
       "      <td>996.69</td>\n",
       "      <td>0.4</td>\n",
       "      <td>16.0</td>\n",
       "    </tr>\n",
       "    <tr>\n",
       "      <th>4</th>\n",
       "      <td>Alta Ribagorça</td>\n",
       "      <td>0.00</td>\n",
       "      <td>982.53</td>\n",
       "      <td>2.4</td>\n",
       "      <td>5.0</td>\n",
       "    </tr>\n",
       "  </tbody>\n",
       "</table>\n",
       "</div>"
      ],
      "text/plain": [
       "           Region  NewConst  SecHandConst  IntensityConst  TotalConstHousing\n",
       "0        Alt Camp    819.27       1154.45             0.3               18.0\n",
       "1     Alt Empordà   1823.48       2062.06             1.7              260.0\n",
       "2     Alt Penedès   1557.13       1323.84             3.1              176.0\n",
       "3      Alt Urgell   1202.06        996.69             0.4               16.0\n",
       "4  Alta Ribagorça      0.00        982.53             2.4                5.0"
      ]
     },
     "execution_count": 217,
     "metadata": {},
     "output_type": "execute_result"
    }
   ],
   "source": [
    "df_test.head()"
   ]
  },
  {
   "cell_type": "code",
   "execution_count": 219,
   "id": "fcb8b18e-ca0d-4cce-9e38-9e027786b97d",
   "metadata": {},
   "outputs": [
    {
     "data": {
      "text/html": [
       "<div>\n",
       "<style scoped>\n",
       "    .dataframe tbody tr th:only-of-type {\n",
       "        vertical-align: middle;\n",
       "    }\n",
       "\n",
       "    .dataframe tbody tr th {\n",
       "        vertical-align: top;\n",
       "    }\n",
       "\n",
       "    .dataframe thead th {\n",
       "        text-align: right;\n",
       "    }\n",
       "</style>\n",
       "<table border=\"1\" class=\"dataframe\">\n",
       "  <thead>\n",
       "    <tr style=\"text-align: right;\">\n",
       "      <th></th>\n",
       "      <th>NewConst</th>\n",
       "      <th>SecHandConst</th>\n",
       "      <th>IntensityConst</th>\n",
       "      <th>TotalConstHousing</th>\n",
       "    </tr>\n",
       "  </thead>\n",
       "  <tbody>\n",
       "    <tr>\n",
       "      <th>0</th>\n",
       "      <td>819.27</td>\n",
       "      <td>1154.45</td>\n",
       "      <td>0.3</td>\n",
       "      <td>18.0</td>\n",
       "    </tr>\n",
       "    <tr>\n",
       "      <th>1</th>\n",
       "      <td>1823.48</td>\n",
       "      <td>2062.06</td>\n",
       "      <td>1.7</td>\n",
       "      <td>260.0</td>\n",
       "    </tr>\n",
       "    <tr>\n",
       "      <th>2</th>\n",
       "      <td>1557.13</td>\n",
       "      <td>1323.84</td>\n",
       "      <td>3.1</td>\n",
       "      <td>176.0</td>\n",
       "    </tr>\n",
       "    <tr>\n",
       "      <th>3</th>\n",
       "      <td>1202.06</td>\n",
       "      <td>996.69</td>\n",
       "      <td>0.4</td>\n",
       "      <td>16.0</td>\n",
       "    </tr>\n",
       "    <tr>\n",
       "      <th>4</th>\n",
       "      <td>0.00</td>\n",
       "      <td>982.53</td>\n",
       "      <td>2.4</td>\n",
       "      <td>5.0</td>\n",
       "    </tr>\n",
       "  </tbody>\n",
       "</table>\n",
       "</div>"
      ],
      "text/plain": [
       "   NewConst  SecHandConst  IntensityConst  TotalConstHousing\n",
       "0    819.27       1154.45             0.3               18.0\n",
       "1   1823.48       2062.06             1.7              260.0\n",
       "2   1557.13       1323.84             3.1              176.0\n",
       "3   1202.06        996.69             0.4               16.0\n",
       "4      0.00        982.53             2.4                5.0"
      ]
     },
     "execution_count": 219,
     "metadata": {},
     "output_type": "execute_result"
    }
   ],
   "source": [
    "df_test.drop('Region',axis=1, inplace=True)\n",
    "df_test.head()"
   ]
  },
  {
   "cell_type": "markdown",
   "id": "f6b210b9-8758-41fb-98e1-0219cc15f717",
   "metadata": {},
   "source": [
    "### Scaling data"
   ]
  },
  {
   "cell_type": "markdown",
   "id": "cb5ebe5b-184c-41a9-82e2-2de8ee06e200",
   "metadata": {},
   "source": [
    "I need to scale the values in dataset because there are prices in euros, intensity as a coeficient and total housing as numerical value. Data is not normaly distributed so I will use Normalization."
   ]
  },
  {
   "cell_type": "code",
   "execution_count": 220,
   "id": "af7ad359-3ffd-42df-b472-b1e8c79262ec",
   "metadata": {},
   "outputs": [
    {
     "data": {
      "text/html": [
       "<div>\n",
       "<style scoped>\n",
       "    .dataframe tbody tr th:only-of-type {\n",
       "        vertical-align: middle;\n",
       "    }\n",
       "\n",
       "    .dataframe tbody tr th {\n",
       "        vertical-align: top;\n",
       "    }\n",
       "\n",
       "    .dataframe thead th {\n",
       "        text-align: right;\n",
       "    }\n",
       "</style>\n",
       "<table border=\"1\" class=\"dataframe\">\n",
       "  <thead>\n",
       "    <tr style=\"text-align: right;\">\n",
       "      <th></th>\n",
       "      <th>NewConst</th>\n",
       "      <th>SecHandConst</th>\n",
       "      <th>IntensityConst</th>\n",
       "      <th>TotalConstHousing</th>\n",
       "    </tr>\n",
       "  </thead>\n",
       "  <tbody>\n",
       "    <tr>\n",
       "      <th>0</th>\n",
       "      <td>0.064750</td>\n",
       "      <td>0.098728</td>\n",
       "      <td>0.025814</td>\n",
       "      <td>0.008636</td>\n",
       "    </tr>\n",
       "    <tr>\n",
       "      <th>1</th>\n",
       "      <td>0.144116</td>\n",
       "      <td>0.176346</td>\n",
       "      <td>0.146280</td>\n",
       "      <td>0.124743</td>\n",
       "    </tr>\n",
       "    <tr>\n",
       "      <th>2</th>\n",
       "      <td>0.123065</td>\n",
       "      <td>0.113214</td>\n",
       "      <td>0.266746</td>\n",
       "      <td>0.084441</td>\n",
       "    </tr>\n",
       "    <tr>\n",
       "      <th>3</th>\n",
       "      <td>0.095003</td>\n",
       "      <td>0.085236</td>\n",
       "      <td>0.034419</td>\n",
       "      <td>0.007676</td>\n",
       "    </tr>\n",
       "    <tr>\n",
       "      <th>4</th>\n",
       "      <td>0.000000</td>\n",
       "      <td>0.084025</td>\n",
       "      <td>0.206513</td>\n",
       "      <td>0.002399</td>\n",
       "    </tr>\n",
       "  </tbody>\n",
       "</table>\n",
       "</div>"
      ],
      "text/plain": [
       "   NewConst  SecHandConst  IntensityConst  TotalConstHousing\n",
       "0  0.064750      0.098728        0.025814           0.008636\n",
       "1  0.144116      0.176346        0.146280           0.124743\n",
       "2  0.123065      0.113214        0.266746           0.084441\n",
       "3  0.095003      0.085236        0.034419           0.007676\n",
       "4  0.000000      0.084025        0.206513           0.002399"
      ]
     },
     "execution_count": 220,
     "metadata": {},
     "output_type": "execute_result"
    }
   ],
   "source": [
    "from sklearn import preprocessing\n",
    "names = df_test.columns\n",
    "\n",
    "d = preprocessing.normalize(df_test, axis=0)\n",
    "scaled_df = pd.DataFrame(d, columns=names)\n",
    "scaled_df.head()"
   ]
  },
  {
   "cell_type": "markdown",
   "id": "737a9390-1866-4ed6-b957-062e464eac89",
   "metadata": {},
   "source": [
    "OK, now let's create test and learn model with these values."
   ]
  },
  {
   "cell_type": "markdown",
   "id": "221f3281-df8e-419e-a106-8aa802df8c92",
   "metadata": {},
   "source": [
    "## SciKit Learn use"
   ]
  },
  {
   "cell_type": "code",
   "execution_count": 221,
   "id": "33cbd4b5-31a5-49a1-9370-791b449357c4",
   "metadata": {},
   "outputs": [],
   "source": [
    "X = scaled_df.drop('NewConst',axis=1)\n",
    "y = scaled_df['NewConst']"
   ]
  },
  {
   "cell_type": "markdown",
   "id": "021afd62-0dc7-4583-aa32-0ff6042a1659",
   "metadata": {},
   "source": [
    "### Train & test and validation Split"
   ]
  },
  {
   "cell_type": "code",
   "execution_count": 120,
   "id": "5fffb7c1-9571-442e-95f4-6311bde0a740",
   "metadata": {},
   "outputs": [],
   "source": [
    "from sklearn.model_selection import train_test_split"
   ]
  },
  {
   "cell_type": "code",
   "execution_count": 222,
   "id": "6be2ec1b-789e-42d6-8b34-2d822f86b483",
   "metadata": {},
   "outputs": [],
   "source": [
    "#Train 70%, test 30%, test_size is the percentage and random_state is for initilizing random number generator\n",
    "X_train, X_test, y_train, y_test = train_test_split(X, y, test_size=0.3, random_state=42)"
   ]
  },
  {
   "cell_type": "code",
   "execution_count": 223,
   "id": "d05e0378-e812-45fe-a2e3-9e7a6d212624",
   "metadata": {
    "tags": []
   },
   "outputs": [
    {
     "data": {
      "text/html": [
       "<div>\n",
       "<style scoped>\n",
       "    .dataframe tbody tr th:only-of-type {\n",
       "        vertical-align: middle;\n",
       "    }\n",
       "\n",
       "    .dataframe tbody tr th {\n",
       "        vertical-align: top;\n",
       "    }\n",
       "\n",
       "    .dataframe thead th {\n",
       "        text-align: right;\n",
       "    }\n",
       "</style>\n",
       "<table border=\"1\" class=\"dataframe\">\n",
       "  <thead>\n",
       "    <tr style=\"text-align: right;\">\n",
       "      <th></th>\n",
       "      <th>SecHandConst</th>\n",
       "      <th>IntensityConst</th>\n",
       "      <th>TotalConstHousing</th>\n",
       "    </tr>\n",
       "  </thead>\n",
       "  <tbody>\n",
       "    <tr>\n",
       "      <th>24</th>\n",
       "      <td>0.058650</td>\n",
       "      <td>0.043024</td>\n",
       "      <td>0.005278</td>\n",
       "    </tr>\n",
       "    <tr>\n",
       "      <th>45</th>\n",
       "      <td>0.078000</td>\n",
       "      <td>0.034419</td>\n",
       "      <td>0.036463</td>\n",
       "    </tr>\n",
       "    <tr>\n",
       "      <th>33</th>\n",
       "      <td>0.072814</td>\n",
       "      <td>0.043024</td>\n",
       "      <td>0.051816</td>\n",
       "    </tr>\n",
       "    <tr>\n",
       "      <th>50</th>\n",
       "      <td>0.215594</td>\n",
       "      <td>0.137675</td>\n",
       "      <td>0.004082</td>\n",
       "    </tr>\n",
       "    <tr>\n",
       "      <th>15</th>\n",
       "      <td>0.245620</td>\n",
       "      <td>0.507678</td>\n",
       "      <td>0.035024</td>\n",
       "    </tr>\n",
       "  </tbody>\n",
       "</table>\n",
       "</div>"
      ],
      "text/plain": [
       "    SecHandConst  IntensityConst  TotalConstHousing\n",
       "24      0.058650        0.043024           0.005278\n",
       "45      0.078000        0.034419           0.036463\n",
       "33      0.072814        0.043024           0.051816\n",
       "50      0.215594        0.137675           0.004082\n",
       "15      0.245620        0.507678           0.035024"
      ]
     },
     "execution_count": 223,
     "metadata": {},
     "output_type": "execute_result"
    }
   ],
   "source": [
    "X_train.head()"
   ]
  },
  {
   "cell_type": "code",
   "execution_count": 224,
   "id": "9299c411-c7bc-4641-9cc4-0e33cab92e75",
   "metadata": {},
   "outputs": [
    {
     "data": {
      "text/plain": [
       "37"
      ]
     },
     "execution_count": 224,
     "metadata": {},
     "output_type": "execute_result"
    }
   ],
   "source": [
    "y_train.count()"
   ]
  },
  {
   "cell_type": "code",
   "execution_count": 225,
   "id": "c7953f5b-0977-47b6-8a7d-a279237066e5",
   "metadata": {},
   "outputs": [
    {
     "data": {
      "text/html": [
       "<div>\n",
       "<style scoped>\n",
       "    .dataframe tbody tr th:only-of-type {\n",
       "        vertical-align: middle;\n",
       "    }\n",
       "\n",
       "    .dataframe tbody tr th {\n",
       "        vertical-align: top;\n",
       "    }\n",
       "\n",
       "    .dataframe thead th {\n",
       "        text-align: right;\n",
       "    }\n",
       "</style>\n",
       "<table border=\"1\" class=\"dataframe\">\n",
       "  <thead>\n",
       "    <tr style=\"text-align: right;\">\n",
       "      <th></th>\n",
       "      <th>SecHandConst</th>\n",
       "      <th>IntensityConst</th>\n",
       "      <th>TotalConstHousing</th>\n",
       "    </tr>\n",
       "  </thead>\n",
       "  <tbody>\n",
       "    <tr>\n",
       "      <th>19</th>\n",
       "      <td>0.103805</td>\n",
       "      <td>0.197909</td>\n",
       "      <td>0.040781</td>\n",
       "    </tr>\n",
       "    <tr>\n",
       "      <th>49</th>\n",
       "      <td>0.151164</td>\n",
       "      <td>0.172094</td>\n",
       "      <td>0.320494</td>\n",
       "    </tr>\n",
       "    <tr>\n",
       "      <th>48</th>\n",
       "      <td>0.160896</td>\n",
       "      <td>0.189304</td>\n",
       "      <td>0.110350</td>\n",
       "    </tr>\n",
       "    <tr>\n",
       "      <th>12</th>\n",
       "      <td>0.120916</td>\n",
       "      <td>0.103257</td>\n",
       "      <td>0.035984</td>\n",
       "    </tr>\n",
       "    <tr>\n",
       "      <th>44</th>\n",
       "      <td>0.107527</td>\n",
       "      <td>0.068838</td>\n",
       "      <td>0.411172</td>\n",
       "    </tr>\n",
       "  </tbody>\n",
       "</table>\n",
       "</div>"
      ],
      "text/plain": [
       "    SecHandConst  IntensityConst  TotalConstHousing\n",
       "19      0.103805        0.197909           0.040781\n",
       "49      0.151164        0.172094           0.320494\n",
       "48      0.160896        0.189304           0.110350\n",
       "12      0.120916        0.103257           0.035984\n",
       "44      0.107527        0.068838           0.411172"
      ]
     },
     "execution_count": 225,
     "metadata": {},
     "output_type": "execute_result"
    }
   ],
   "source": [
    "X_test.head()"
   ]
  },
  {
   "cell_type": "code",
   "execution_count": 226,
   "id": "32dfe365-b74e-414d-a6b2-213417bbe4db",
   "metadata": {
    "tags": []
   },
   "outputs": [
    {
     "data": {
      "text/plain": [
       "17"
      ]
     },
     "execution_count": 226,
     "metadata": {},
     "output_type": "execute_result"
    }
   ],
   "source": [
    "y_test.count()"
   ]
  },
  {
   "cell_type": "markdown",
   "id": "686ff71c-f65f-47c2-8098-d55566ac7747",
   "metadata": {},
   "source": [
    "## Model creation"
   ]
  },
  {
   "cell_type": "markdown",
   "id": "2b849021-c5f9-4bf0-b296-d792ea5c9c9f",
   "metadata": {},
   "source": [
    "### Import a model class from a model family"
   ]
  },
  {
   "cell_type": "code",
   "execution_count": 126,
   "id": "75f7391f-96f6-4a47-89db-eaebd3566fe4",
   "metadata": {
    "tags": []
   },
   "outputs": [],
   "source": [
    "from sklearn.linear_model import LinearRegression"
   ]
  },
  {
   "cell_type": "code",
   "execution_count": 227,
   "id": "d02bc0bd-42ad-41fc-a4c7-0b11a59a81ea",
   "metadata": {},
   "outputs": [],
   "source": [
    "#instantiate the model\n",
    "model = LinearRegression()"
   ]
  },
  {
   "cell_type": "code",
   "execution_count": 264,
   "id": "ba82d85c-e242-4972-9e29-5069fd091c84",
   "metadata": {},
   "outputs": [
    {
     "data": {
      "image/png": "[encoded data removed]",
      "text/plain": [
       "<Figure size 1080x360 with 2 Axes>"
      ]
     },
     "metadata": {
      "needs_background": "light"
     },
     "output_type": "display_data"
    }
   ],
   "source": [
    "#display the training set\n",
    "fig,axes = plt.subplots(nrows=1,ncols=2,figsize=(15,5))\n",
    "\n",
    "axes[0].plot(X_train['TotalConstHousing'],y_train,'o')\n",
    "axes[0].set_title(\" \")\n",
    "\n",
    "axes[1].plot(X_test['TotalConstHousing'],y_test,'o')\n",
    "axes[1].set_title(\" \")\n",
    "\n",
    "plt.tight_layout();"
   ]
  },
  {
   "cell_type": "markdown",
   "id": "9c6f59e6-196c-49d4-aa80-c8a2b833124f",
   "metadata": {},
   "source": [
    "Looks like my training sample is quite similar to original dataset so the random selection worked well."
   ]
  },
  {
   "cell_type": "code",
   "execution_count": 260,
   "id": "9d80c04d-4ae4-479d-b109-2d1d349dcdfc",
   "metadata": {},
   "outputs": [
    {
     "data": {
      "text/plain": [
       "LinearRegression()"
      ]
     },
     "execution_count": 260,
     "metadata": {},
     "output_type": "execute_result"
    }
   ],
   "source": [
    "#fit the dataset - linear regression\n",
    "model.fit(X_train,y_train)"
   ]
  },
  {
   "cell_type": "markdown",
   "id": "d8f16497-ade3-40dc-9ee3-e16e9571c116",
   "metadata": {},
   "source": [
    "**Predict the price of new construction unit when secon-hand is 1200 eur by square meter, intensity of construction 2 and 25 estimated total finished buildings.**"
   ]
  },
  {
   "cell_type": "code",
   "execution_count": 274,
   "id": "11e0a511-f05e-465b-8fc1-56aa2a815b3b",
   "metadata": {},
   "outputs": [
    {
     "name": "stdout",
     "output_type": "stream",
     "text": [
      "The price of square meter of new unit will be 1191 euros.\n"
     ]
    }
   ],
   "source": [
    "predictedPrice = model.predict([[1200, 2, 25 ]])\n",
    "print('The price of square meter of new unit will be', round(predictedPrice[0]),'euros.')"
   ]
  },
  {
   "cell_type": "code",
   "execution_count": 275,
   "id": "7bba1e0b-9e7b-4017-8edd-0575c00672bf",
   "metadata": {},
   "outputs": [
    {
     "name": "stdout",
     "output_type": "stream",
     "text": [
      "[0.99130652 0.00816537 0.04218679]\n"
     ]
    }
   ],
   "source": [
    "print(model.coef_)"
   ]
  },
  {
   "cell_type": "markdown",
   "id": "51e7597d-2e2d-45bc-bd7f-50305538684f",
   "metadata": {},
   "source": [
    "Interpretation:\n",
    "- If the second-hand housing price increase 1 eur the new housing price increase by x*0.991\n",
    "- If the intensity of construction increase by 1 unit the new housing price increase by x*0.008\n",
    "- If the total finished housing increase 1 unit the new housing price increase by x*0.042"
   ]
  },
  {
   "cell_type": "markdown",
   "id": "adb5603e-8602-47d6-bedb-99f72901b732",
   "metadata": {},
   "source": [
    "### Calculation of prediction error"
   ]
  },
  {
   "cell_type": "code",
   "execution_count": 229,
   "id": "e7ddf116-ee6c-434d-aab7-8aca5d7ceeb8",
   "metadata": {},
   "outputs": [],
   "source": [
    "# X_test\n",
    "test_predictions = model.predict(X_test)"
   ]
  },
  {
   "cell_type": "code",
   "execution_count": 230,
   "id": "9764ba10-a682-4623-ba0b-dbe86cce9505",
   "metadata": {},
   "outputs": [
    {
     "data": {
      "text/plain": [
       "array([0.10020761, 0.15874408, 0.15966678, 0.11619511, 0.11846875,\n",
       "       0.09188027, 0.22300973, 0.10255972, 0.07906872, 0.09993554,\n",
       "       0.29248337, 0.12716071, 0.05515731, 0.21508644, 0.08732365,\n",
       "       0.07905087, 0.13799789])"
      ]
     },
     "execution_count": 230,
     "metadata": {},
     "output_type": "execute_result"
    }
   ],
   "source": [
    "test_predictions"
   ]
  },
  {
   "cell_type": "code",
   "execution_count": 231,
   "id": "597678a2-3d17-45b8-8e57-f65a93aea9a3",
   "metadata": {},
   "outputs": [],
   "source": [
    "from sklearn.metrics import mean_absolute_error,mean_squared_error\n",
    "MAE = mean_absolute_error(y_test,test_predictions)\n",
    "MSE = mean_squared_error(y_test,test_predictions)\n",
    "RMSE = np.sqrt(MSE)"
   ]
  },
  {
   "cell_type": "code",
   "execution_count": 232,
   "id": "305a7669-39b3-4a71-a156-322f050f3798",
   "metadata": {},
   "outputs": [
    {
     "name": "stdout",
     "output_type": "stream",
     "text": [
      "0.01872560491626308 0.000802983937815483 0.028336971218100974\n"
     ]
    }
   ],
   "source": [
    "print(MAE, MSE, RMSE)"
   ]
  },
  {
   "cell_type": "markdown",
   "id": "acbe589c-8b79-4058-b7f3-7124693213b7",
   "metadata": {},
   "source": [
    "The mean absolute error is 0.018. This is a metric used to evaluate a regression model. The error is the difference between the predicted values and the actual values.\n",
    "Notes:\n",
    "- The first time I created the model with values without scaling them, the MAE was around 237. That made me think that something went wrong.\n",
    "- RMSE - How similar, on average, are the numbers in test list to prediction list. My RMSE is close to 0, that means that the prediction model is very good."
   ]
  },
  {
   "cell_type": "code",
   "execution_count": 277,
   "id": "0af734e8-c674-4493-bf5b-88a2ca1ac25d",
   "metadata": {},
   "outputs": [
    {
     "data": {
      "text/html": [
       "<div>\n",
       "<style scoped>\n",
       "    .dataframe tbody tr th:only-of-type {\n",
       "        vertical-align: middle;\n",
       "    }\n",
       "\n",
       "    .dataframe tbody tr th {\n",
       "        vertical-align: top;\n",
       "    }\n",
       "\n",
       "    .dataframe thead th {\n",
       "        text-align: right;\n",
       "    }\n",
       "</style>\n",
       "<table border=\"1\" class=\"dataframe\">\n",
       "  <thead>\n",
       "    <tr style=\"text-align: right;\">\n",
       "      <th></th>\n",
       "      <th>NewConst</th>\n",
       "      <th>SecHandConst</th>\n",
       "      <th>IntensityConst</th>\n",
       "      <th>TotalConstHousing</th>\n",
       "    </tr>\n",
       "  </thead>\n",
       "  <tbody>\n",
       "    <tr>\n",
       "      <th>NewConst</th>\n",
       "      <td>1.000000</td>\n",
       "      <td>0.900784</td>\n",
       "      <td>0.544947</td>\n",
       "      <td>0.227807</td>\n",
       "    </tr>\n",
       "    <tr>\n",
       "      <th>SecHandConst</th>\n",
       "      <td>0.900784</td>\n",
       "      <td>1.000000</td>\n",
       "      <td>0.615254</td>\n",
       "      <td>0.127462</td>\n",
       "    </tr>\n",
       "    <tr>\n",
       "      <th>IntensityConst</th>\n",
       "      <td>0.544947</td>\n",
       "      <td>0.615254</td>\n",
       "      <td>1.000000</td>\n",
       "      <td>0.154121</td>\n",
       "    </tr>\n",
       "    <tr>\n",
       "      <th>TotalConstHousing</th>\n",
       "      <td>0.227807</td>\n",
       "      <td>0.127462</td>\n",
       "      <td>0.154121</td>\n",
       "      <td>1.000000</td>\n",
       "    </tr>\n",
       "  </tbody>\n",
       "</table>\n",
       "</div>"
      ],
      "text/plain": [
       "                   NewConst  SecHandConst  IntensityConst  TotalConstHousing\n",
       "NewConst           1.000000      0.900784        0.544947           0.227807\n",
       "SecHandConst       0.900784      1.000000        0.615254           0.127462\n",
       "IntensityConst     0.544947      0.615254        1.000000           0.154121\n",
       "TotalConstHousing  0.227807      0.127462        0.154121           1.000000"
      ]
     },
     "execution_count": 277,
     "metadata": {},
     "output_type": "execute_result"
    }
   ],
   "source": [
    "scaled_df.corr()"
   ]
  },
  {
   "cell_type": "code",
   "execution_count": 284,
   "id": "549a7dae-0076-4a05-a6ff-870a530ea61b",
   "metadata": {},
   "outputs": [
    {
     "data": {
      "image/png": "[encoded data removed]",
      "text/plain": [
       "<Figure size 432x288 with 2 Axes>"
      ]
     },
     "metadata": {},
     "output_type": "display_data"
    }
   ],
   "source": [
    "#Correlation matrix\n",
    "corr = scaled_df.corr()\n",
    "sns.set_theme(style=\"white\")\n",
    "cmap = sns.diverging_palette(230, 20, as_cmap=True)\n",
    "\n",
    "matrix = np.triu(corr)\n",
    "sns.heatmap(corr, annot=True, mask=matrix, cmap=cmap)\n",
    "plt.show()"
   ]
  },
  {
   "cell_type": "markdown",
   "id": "06d5738b-bb89-42df-8938-6ddfd53cbbf8",
   "metadata": {},
   "source": [
    "Interpretation:\n",
    "- New housing units and second-hand properties prices are strongly correlated.\n",
    "- Intensity of construction and second-hand propetries has also significative correlation."
   ]
  }
 ],
 "metadata": {
  "kernelspec": {
   "display_name": "Python 3",
   "language": "python",
   "name": "python3"
  },
  "language_info": {
   "codemirror_mode": {
    "name": "ipython",
    "version": 3
   },
   "file_extension": ".py",
   "mimetype": "text/x-python",
   "name": "python",
   "nbconvert_exporter": "python",
   "pygments_lexer": "ipython3",
   "version": "3.8.8"
  }
 },
 "nbformat": 4,
 "nbformat_minor": 5
}
