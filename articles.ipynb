{
 "cells": [
  {
   "cell_type": "markdown",
   "id": "27aeeab0-e968-47c9-9522-fd71aa8866d8",
   "metadata": {},
   "source": [
    "#Articles"
   ]
  },
  {
   "cell_type": "markdown",
   "id": "93260850-fb8b-48bd-a628-4c6b6b99595d",
   "metadata": {},
   "source": [
    "###Importar i analitzar"
   ]
  },
  {
   "cell_type": "code",
   "execution_count": 8,
   "id": "584040f5-f235-4f1d-ace1-8441a1b96681",
   "metadata": {},
   "outputs": [],
   "source": [
    "import numpy as np\n",
    "import pandas as pd\n",
    "import warnings\n",
    "warnings.filterwarnings('ignore')"
   ]
  },
  {
   "cell_type": "code",
   "execution_count": 9,
   "id": "3e4f0279-5fff-46d7-b52d-49bc31384e23",
   "metadata": {},
   "outputs": [],
   "source": [
    "df = pd.read_excel('articles.xlsx')"
   ]
  },
  {
   "cell_type": "code",
   "execution_count": 10,
   "id": "ad8af32f-7414-4cee-adf5-0bdd3d4d32c2",
   "metadata": {},
   "outputs": [
    {
     "data": {
      "text/html": [
       "<div>\n",
       "<style scoped>\n",
       "    .dataframe tbody tr th:only-of-type {\n",
       "        vertical-align: middle;\n",
       "    }\n",
       "\n",
       "    .dataframe tbody tr th {\n",
       "        vertical-align: top;\n",
       "    }\n",
       "\n",
       "    .dataframe thead th {\n",
       "        text-align: right;\n",
       "    }\n",
       "</style>\n",
       "<table border=\"1\" class=\"dataframe\">\n",
       "  <thead>\n",
       "    <tr style=\"text-align: right;\">\n",
       "      <th></th>\n",
       "      <th>Código</th>\n",
       "      <th>Nombre</th>\n",
       "      <th>Descripción</th>\n",
       "      <th>Pes</th>\n",
       "      <th>Coste</th>\n",
       "    </tr>\n",
       "  </thead>\n",
       "  <tbody>\n",
       "    <tr>\n",
       "      <th>0</th>\n",
       "      <td>UFRED.FN.10X10X1</td>\n",
       "      <td>U FRED ferro negre 10x10x1</td>\n",
       "      <td>M.PRIMERA/TRASPAS EXCEL FERRO/FERRO/U XAPA</td>\n",
       "      <td>0.23</td>\n",
       "      <td>2.5</td>\n",
       "    </tr>\n",
       "    <tr>\n",
       "      <th>1</th>\n",
       "      <td>UFRED.FN.10X15X1</td>\n",
       "      <td>U FRED ferro negre 10x15x1</td>\n",
       "      <td>M.PRIMERA/TRASPAS EXCEL FERRO/FERRO/U XAPA</td>\n",
       "      <td>0.36</td>\n",
       "      <td>2.5</td>\n",
       "    </tr>\n",
       "    <tr>\n",
       "      <th>2</th>\n",
       "      <td>UFRED.FN.15X10X1</td>\n",
       "      <td>U FRED ferro negre 15x10x1</td>\n",
       "      <td>M.PRIMERA/TRASPAS EXCEL FERRO/FERRO/U XAPA</td>\n",
       "      <td>0.42</td>\n",
       "      <td>2.5</td>\n",
       "    </tr>\n",
       "    <tr>\n",
       "      <th>3</th>\n",
       "      <td>UFRED.FN.15X12X1</td>\n",
       "      <td>U FRED ferro negre 15x12x1</td>\n",
       "      <td>M.PRIMERA/TRASPAS EXCEL FERRO/FERRO/U XAPA</td>\n",
       "      <td>0.48</td>\n",
       "      <td>2.5</td>\n",
       "    </tr>\n",
       "    <tr>\n",
       "      <th>4</th>\n",
       "      <td>UFRED.FN.15X12X1.5</td>\n",
       "      <td>U FRED ferro negre 15x12x1.5</td>\n",
       "      <td>M.PRIMERA/TRASPAS EXCEL FERRO/FERRO/U XAPA</td>\n",
       "      <td>0.49</td>\n",
       "      <td>2.5</td>\n",
       "    </tr>\n",
       "  </tbody>\n",
       "</table>\n",
       "</div>"
      ],
      "text/plain": [
       "               Código                        Nombre  \\\n",
       "0    UFRED.FN.10X10X1    U FRED ferro negre 10x10x1   \n",
       "1    UFRED.FN.10X15X1    U FRED ferro negre 10x15x1   \n",
       "2    UFRED.FN.15X10X1    U FRED ferro negre 15x10x1   \n",
       "3    UFRED.FN.15X12X1    U FRED ferro negre 15x12x1   \n",
       "4  UFRED.FN.15X12X1.5  U FRED ferro negre 15x12x1.5   \n",
       "\n",
       "                                  Descripción   Pes  Coste  \n",
       "0  M.PRIMERA/TRASPAS EXCEL FERRO/FERRO/U XAPA  0.23    2.5  \n",
       "1  M.PRIMERA/TRASPAS EXCEL FERRO/FERRO/U XAPA  0.36    2.5  \n",
       "2  M.PRIMERA/TRASPAS EXCEL FERRO/FERRO/U XAPA  0.42    2.5  \n",
       "3  M.PRIMERA/TRASPAS EXCEL FERRO/FERRO/U XAPA  0.48    2.5  \n",
       "4  M.PRIMERA/TRASPAS EXCEL FERRO/FERRO/U XAPA  0.49    2.5  "
      ]
     },
     "execution_count": 10,
     "metadata": {},
     "output_type": "execute_result"
    }
   ],
   "source": [
    "df.head()"
   ]
  },
  {
   "cell_type": "code",
   "execution_count": 17,
   "id": "29bddf5f-26d4-4c70-955a-5409c2b48d01",
   "metadata": {},
   "outputs": [
    {
     "data": {
      "text/plain": [
       "array(['M.PRIMERA/TRASPAS EXCEL FERRO/FERRO/U XAPA',\n",
       "       'M.PRIMERA/TRASPAS EXCEL FERRO/INOX/U XAPA 04 BRUT',\n",
       "       'M.PRIMERA/TRASPAS EXCEL FERRO/INOX/U XAPA 04 SATI',\n",
       "       'M.PRIMERA/TRASPAS EXCEL FERRO/INOX/U XAPA 04 BRILL',\n",
       "       'M.PRIMERA/TRASPAS EXCEL FERRO/INOX/U XAPA 16 BRUT',\n",
       "       'M.PRIMERA/TRASPAS EXCEL FERRO/INOX/U XAPA 16 SATI',\n",
       "       'M.PRIMERA/TRASPAS EXCEL FERRO/INOX/U XAPA 16 BRILL',\n",
       "       'M.PRIMERA/TRASPAS EXCEL FERRO/FERRO/PERFRISA FN',\n",
       "       'M.PRIMERA/TRASPAS EXCEL FERRO/FERRO/PERFRISA GV',\n",
       "       'M.PRIMERA/TRASPAS EXCEL FERRO/FERRO/BIGUES',\n",
       "       'M.PRIMERA/TRASPAS EXCEL FERRO/FERRO/MASSISOS FN',\n",
       "       'M.PRIMERA/TRASPAS EXCEL FERRO/INOX/MASSISSOS 04 BRUT',\n",
       "       'M.PRIMERA/TRASPAS EXCEL FERRO/INOX/MASSISSOS 04 SATI',\n",
       "       'M.PRIMERA/TRASPAS EXCEL FERRO/INOX/MASSISSOS 04 BRILL',\n",
       "       'M.PRIMERA/TRASPAS EXCEL FERRO/INOX/MASSISSOS 16 BRUT',\n",
       "       'M.PRIMERA/TRASPAS EXCEL FERRO/INOX/MASSISSOS 16 SATI',\n",
       "       'M.PRIMERA/TRASPAS EXCEL FERRO/INOX/MASSISSOS 16 BRILL',\n",
       "       'M.PRIMERA/TRASPAS EXCEL FERRO/FERRO/T FN',\n",
       "       'M.PRIMERA/TRASPAS EXCEL FERRO/FERRO/L FN',\n",
       "       'M.PRIMERA/TRASPAS EXCEL FERRO/FERRO/L GV',\n",
       "       'M.PRIMERA/TRASPAS EXCEL FERRO/INOX/L 04 BRUT',\n",
       "       'M.PRIMERA/TRASPAS EXCEL FERRO/INOX/L16 BRUT',\n",
       "       'M.PRIMERA/TRASPAS EXCEL FERRO/FERRO/XAPES FN',\n",
       "       'M.PRIMERA/TRASPAS EXCEL FERRO/FERRO/XAPES GV',\n",
       "       'M.PRIMERA/TRASPAS EXCEL FERRO/FERRO/XAPES COR',\n",
       "       'M.PRIMERA/TRASPAS EXCEL FERRO/FERRO/TUBS ROD FN',\n",
       "       'M.PRIMERA/TRASPAS EXCEL FERRO/INOX/TUB ROD 04 BRUT',\n",
       "       'M.PRIMERA/TRASPAS EXCEL FERRO/INOX/TUB ROD 04 SATI',\n",
       "       'M.PRIMERA/TRASPAS EXCEL FERRO/INOX/TUB ROD 04 BRILL',\n",
       "       'M.PRIMERA/TRASPAS EXCEL FERRO/INOX/TUB ROD 16 BRUT',\n",
       "       'M.PRIMERA/TRASPAS EXCEL FERRO/INOX/TUB ROD 16 SATI',\n",
       "       'M.PRIMERA/TRASPAS EXCEL FERRO/INOX/TUB ROD 16 BRILL',\n",
       "       'M.PRIMERA/TRASPAS EXCEL FERRO/FERRO/TUBS ROD COR',\n",
       "       'M.PRIMERA/TRASPAS EXCEL FERRO/FERRO/TUBS ROD GV',\n",
       "       'M.PRIMERA/TRASPAS EXCEL FERRO/FERRO/TUBS RECT FN',\n",
       "       'M.PRIMERA/TRASPAS EXCEL FERRO/INOX/TUB RECT 04 BRUT',\n",
       "       'M.PRIMERA/TRASPAS EXCEL FERRO/INOX/TUB RECT 04 SATI',\n",
       "       'M.PRIMERA/TRASPAS EXCEL FERRO/INOX/TUB RECT 04 BRILL',\n",
       "       'M.PRIMERA/TRASPAS EXCEL FERRO/INOX/TUB RECT 16 BRUT',\n",
       "       'M.PRIMERA/TRASPAS EXCEL FERRO/INOX/TUB RECT 16 SATI',\n",
       "       'M.PRIMERA/TRASPAS EXCEL FERRO/INOX/TUB RECT 16 BRILL',\n",
       "       'M.PRIMERA/TRASPAS EXCEL FERRO/FERRO/TUBS QUADR COR',\n",
       "       'M.PRIMERA/TRASPAS EXCEL FERRO/FERRO/TUBS RECT GV',\n",
       "       'M.PRIMERA/TRASPAS EXCEL FERRO/FERRO/TUBS QUADR FN',\n",
       "       'M.PRIMERA/TRASPAS EXCEL FERRO/INOX/TUB QUADR 04 BRUT',\n",
       "       'M.PRIMERA/TRASPAS EXCEL FERRO/INOX/TUB QUADR 04 SATI',\n",
       "       'M.PRIMERA/TRASPAS EXCEL FERRO/INOX/TUB QUADR 04 BRILL',\n",
       "       'M.PRIMERA/TRASPAS EXCEL FERRO/INOX/TUB QUADR 16 BRUT',\n",
       "       'M.PRIMERA/TRASPAS EXCEL FERRO/INOX/TUB QUADR 16 SATI',\n",
       "       'M.PRIMERA/TRASPAS EXCEL FERRO/INOX/TUB QUADR 16 BRILL',\n",
       "       'M.PRIMERA/TRASPAS EXCEL FERRO/FERRO/TUBS QUADR GV',\n",
       "       'M.PRIMERA/TRASPAS EXCEL FERRO/FERRO/PASSAMÀ FN',\n",
       "       'M.PRIMERA/TRASPAS EXCEL FERRO/INOX/PASSAMÀ 04 BRUT',\n",
       "       'M.PRIMERA/TRASPAS EXCEL FERRO/INOX/PASSAMÀ 04 SATI',\n",
       "       'M.PRIMERA/TRASPAS EXCEL FERRO/INOX/PASSAMÀ 04 BRILL',\n",
       "       'M.PRIMERA/TRASPAS EXCEL FERRO/INOX/PASSAMÀ 16 BRUT',\n",
       "       'M.PRIMERA/TRASPAS EXCEL FERRO/INOX/PASSAMÀ 16 SATI',\n",
       "       'M.PRIMERA/TRASPAS EXCEL FERRO/INOX/PASSAMÀ 16 BRILL'],\n",
       "      dtype=object)"
      ]
     },
     "execution_count": 17,
     "metadata": {},
     "output_type": "execute_result"
    }
   ],
   "source": [
    "df['Descripción'].unique()"
   ]
  },
  {
   "cell_type": "code",
   "execution_count": 18,
   "id": "9bee2a7d-aa6d-4dfb-916b-f26b522131c9",
   "metadata": {},
   "outputs": [
    {
     "data": {
      "text/plain": [
       "58"
      ]
     },
     "execution_count": 18,
     "metadata": {},
     "output_type": "execute_result"
    }
   ],
   "source": [
    "all_families = df['Descripción'].unique()\n",
    "all_families = pd.unique(all_families)\n",
    "len(all_families)"
   ]
  },
  {
   "cell_type": "markdown",
   "id": "1e3046d8-3e25-4198-8c3f-941ad600d5f5",
   "metadata": {},
   "source": [
    "Tinc 58 families de articles."
   ]
  },
  {
   "cell_type": "markdown",
   "id": "bd38c5b8-f918-4634-9f1d-efe486b20123",
   "metadata": {},
   "source": [
    "###Vull canviar preu de familia M.PRIMERA/TRASPAS EXCEL FERRO/FERRO/U XAPA"
   ]
  },
  {
   "cell_type": "code",
   "execution_count": 22,
   "id": "edadb06e-05ff-4357-b4ec-cf5fe6a3ddd1",
   "metadata": {},
   "outputs": [
    {
     "data": {
      "text/html": [
       "<div>\n",
       "<style scoped>\n",
       "    .dataframe tbody tr th:only-of-type {\n",
       "        vertical-align: middle;\n",
       "    }\n",
       "\n",
       "    .dataframe tbody tr th {\n",
       "        vertical-align: top;\n",
       "    }\n",
       "\n",
       "    .dataframe thead th {\n",
       "        text-align: right;\n",
       "    }\n",
       "</style>\n",
       "<table border=\"1\" class=\"dataframe\">\n",
       "  <thead>\n",
       "    <tr style=\"text-align: right;\">\n",
       "      <th></th>\n",
       "      <th>Código</th>\n",
       "      <th>Nombre</th>\n",
       "      <th>Descripción</th>\n",
       "      <th>Pes</th>\n",
       "      <th>Coste</th>\n",
       "    </tr>\n",
       "  </thead>\n",
       "  <tbody>\n",
       "    <tr>\n",
       "      <th>0</th>\n",
       "      <td>UFRED.FN.10X10X1</td>\n",
       "      <td>U FRED ferro negre 10x10x1</td>\n",
       "      <td>M.PRIMERA/TRASPAS EXCEL FERRO/FERRO/U XAPA</td>\n",
       "      <td>0.23</td>\n",
       "      <td>2.5</td>\n",
       "    </tr>\n",
       "    <tr>\n",
       "      <th>1</th>\n",
       "      <td>UFRED.FN.10X15X1</td>\n",
       "      <td>U FRED ferro negre 10x15x1</td>\n",
       "      <td>M.PRIMERA/TRASPAS EXCEL FERRO/FERRO/U XAPA</td>\n",
       "      <td>0.36</td>\n",
       "      <td>2.5</td>\n",
       "    </tr>\n",
       "    <tr>\n",
       "      <th>2</th>\n",
       "      <td>UFRED.FN.15X10X1</td>\n",
       "      <td>U FRED ferro negre 15x10x1</td>\n",
       "      <td>M.PRIMERA/TRASPAS EXCEL FERRO/FERRO/U XAPA</td>\n",
       "      <td>0.42</td>\n",
       "      <td>2.5</td>\n",
       "    </tr>\n",
       "    <tr>\n",
       "      <th>3</th>\n",
       "      <td>UFRED.FN.15X12X1</td>\n",
       "      <td>U FRED ferro negre 15x12x1</td>\n",
       "      <td>M.PRIMERA/TRASPAS EXCEL FERRO/FERRO/U XAPA</td>\n",
       "      <td>0.48</td>\n",
       "      <td>2.5</td>\n",
       "    </tr>\n",
       "    <tr>\n",
       "      <th>4</th>\n",
       "      <td>UFRED.FN.15X12X1.5</td>\n",
       "      <td>U FRED ferro negre 15x12x1.5</td>\n",
       "      <td>M.PRIMERA/TRASPAS EXCEL FERRO/FERRO/U XAPA</td>\n",
       "      <td>0.49</td>\n",
       "      <td>2.5</td>\n",
       "    </tr>\n",
       "  </tbody>\n",
       "</table>\n",
       "</div>"
      ],
      "text/plain": [
       "               Código                        Nombre  \\\n",
       "0    UFRED.FN.10X10X1    U FRED ferro negre 10x10x1   \n",
       "1    UFRED.FN.10X15X1    U FRED ferro negre 10x15x1   \n",
       "2    UFRED.FN.15X10X1    U FRED ferro negre 15x10x1   \n",
       "3    UFRED.FN.15X12X1    U FRED ferro negre 15x12x1   \n",
       "4  UFRED.FN.15X12X1.5  U FRED ferro negre 15x12x1.5   \n",
       "\n",
       "                                  Descripción   Pes  Coste  \n",
       "0  M.PRIMERA/TRASPAS EXCEL FERRO/FERRO/U XAPA  0.23    2.5  \n",
       "1  M.PRIMERA/TRASPAS EXCEL FERRO/FERRO/U XAPA  0.36    2.5  \n",
       "2  M.PRIMERA/TRASPAS EXCEL FERRO/FERRO/U XAPA  0.42    2.5  \n",
       "3  M.PRIMERA/TRASPAS EXCEL FERRO/FERRO/U XAPA  0.48    2.5  \n",
       "4  M.PRIMERA/TRASPAS EXCEL FERRO/FERRO/U XAPA  0.49    2.5  "
      ]
     },
     "execution_count": 22,
     "metadata": {},
     "output_type": "execute_result"
    }
   ],
   "source": [
    "new_df = df[df['Descripción'] == 'M.PRIMERA/TRASPAS EXCEL FERRO/FERRO/U XAPA']\n",
    "new_df.head()"
   ]
  },
  {
   "cell_type": "code",
   "execution_count": 29,
   "id": "07e79fe9-79f3-4b43-884f-6a9e8d03346d",
   "metadata": {},
   "outputs": [
    {
     "data": {
      "text/html": [
       "<div>\n",
       "<style scoped>\n",
       "    .dataframe tbody tr th:only-of-type {\n",
       "        vertical-align: middle;\n",
       "    }\n",
       "\n",
       "    .dataframe tbody tr th {\n",
       "        vertical-align: top;\n",
       "    }\n",
       "\n",
       "    .dataframe thead th {\n",
       "        text-align: right;\n",
       "    }\n",
       "</style>\n",
       "<table border=\"1\" class=\"dataframe\">\n",
       "  <thead>\n",
       "    <tr style=\"text-align: right;\">\n",
       "      <th></th>\n",
       "      <th>Código</th>\n",
       "      <th>Nombre</th>\n",
       "      <th>Descripción</th>\n",
       "      <th>Pes</th>\n",
       "      <th>Coste</th>\n",
       "    </tr>\n",
       "  </thead>\n",
       "  <tbody>\n",
       "    <tr>\n",
       "      <th>0</th>\n",
       "      <td>UFRED.FN.10X10X1</td>\n",
       "      <td>U FRED ferro negre 10x10x1</td>\n",
       "      <td>M.PRIMERA/TRASPAS EXCEL FERRO/FERRO/U XAPA</td>\n",
       "      <td>0.23</td>\n",
       "      <td>2.7</td>\n",
       "    </tr>\n",
       "    <tr>\n",
       "      <th>1</th>\n",
       "      <td>UFRED.FN.10X15X1</td>\n",
       "      <td>U FRED ferro negre 10x15x1</td>\n",
       "      <td>M.PRIMERA/TRASPAS EXCEL FERRO/FERRO/U XAPA</td>\n",
       "      <td>0.36</td>\n",
       "      <td>2.7</td>\n",
       "    </tr>\n",
       "    <tr>\n",
       "      <th>2</th>\n",
       "      <td>UFRED.FN.15X10X1</td>\n",
       "      <td>U FRED ferro negre 15x10x1</td>\n",
       "      <td>M.PRIMERA/TRASPAS EXCEL FERRO/FERRO/U XAPA</td>\n",
       "      <td>0.42</td>\n",
       "      <td>2.7</td>\n",
       "    </tr>\n",
       "    <tr>\n",
       "      <th>3</th>\n",
       "      <td>UFRED.FN.15X12X1</td>\n",
       "      <td>U FRED ferro negre 15x12x1</td>\n",
       "      <td>M.PRIMERA/TRASPAS EXCEL FERRO/FERRO/U XAPA</td>\n",
       "      <td>0.48</td>\n",
       "      <td>2.7</td>\n",
       "    </tr>\n",
       "    <tr>\n",
       "      <th>4</th>\n",
       "      <td>UFRED.FN.15X12X1.5</td>\n",
       "      <td>U FRED ferro negre 15x12x1.5</td>\n",
       "      <td>M.PRIMERA/TRASPAS EXCEL FERRO/FERRO/U XAPA</td>\n",
       "      <td>0.49</td>\n",
       "      <td>2.7</td>\n",
       "    </tr>\n",
       "  </tbody>\n",
       "</table>\n",
       "</div>"
      ],
      "text/plain": [
       "               Código                        Nombre  \\\n",
       "0    UFRED.FN.10X10X1    U FRED ferro negre 10x10x1   \n",
       "1    UFRED.FN.10X15X1    U FRED ferro negre 10x15x1   \n",
       "2    UFRED.FN.15X10X1    U FRED ferro negre 15x10x1   \n",
       "3    UFRED.FN.15X12X1    U FRED ferro negre 15x12x1   \n",
       "4  UFRED.FN.15X12X1.5  U FRED ferro negre 15x12x1.5   \n",
       "\n",
       "                                  Descripción   Pes  Coste  \n",
       "0  M.PRIMERA/TRASPAS EXCEL FERRO/FERRO/U XAPA  0.23    2.7  \n",
       "1  M.PRIMERA/TRASPAS EXCEL FERRO/FERRO/U XAPA  0.36    2.7  \n",
       "2  M.PRIMERA/TRASPAS EXCEL FERRO/FERRO/U XAPA  0.42    2.7  \n",
       "3  M.PRIMERA/TRASPAS EXCEL FERRO/FERRO/U XAPA  0.48    2.7  \n",
       "4  M.PRIMERA/TRASPAS EXCEL FERRO/FERRO/U XAPA  0.49    2.7  "
      ]
     },
     "execution_count": 29,
     "metadata": {},
     "output_type": "execute_result"
    }
   ],
   "source": [
    "final_df = new_df.assign(Coste=2.7)\n",
    "final_df.head()"
   ]
  },
  {
   "cell_type": "markdown",
   "id": "174c3afb-c9fd-4614-98e7-55eb2176225c",
   "metadata": {},
   "source": [
    "El preu de la familia s'ha canviat de 2.5 a 2.7, podem exportar a excel."
   ]
  },
  {
   "cell_type": "code",
   "execution_count": 30,
   "id": "4c6fa23d-6b78-4137-9750-b138c0fdead0",
   "metadata": {},
   "outputs": [],
   "source": [
    "final_df.to_excel('articles_actuals.xlsx', sheet_name='Sheet1')"
   ]
  }
 ],
 "metadata": {
  "kernelspec": {
   "display_name": "Python 3",
   "language": "python",
   "name": "python3"
  },
  "language_info": {
   "codemirror_mode": {
    "name": "ipython",
    "version": 3
   },
   "file_extension": ".py",
   "mimetype": "text/x-python",
   "name": "python",
   "nbconvert_exporter": "python",
   "pygments_lexer": "ipython3",
   "version": "3.8.8"
  }
 },
 "nbformat": 4,
 "nbformat_minor": 5
}
